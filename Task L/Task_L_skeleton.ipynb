{
  "cells": [
    {
      "cell_type": "code",
      "source": [
        "from google.colab import drive\n",
        "drive.mount('/content/drive')"
      ],
      "metadata": {
        "colab": {
          "base_uri": "https://localhost:8080/"
        },
        "id": "tzVSGS5tv2OU",
        "outputId": "76816c58-d6bd-4253-ab06-19339333837d"
      },
      "id": "tzVSGS5tv2OU",
      "execution_count": null,
      "outputs": [
        {
          "output_type": "stream",
          "name": "stdout",
          "text": [
            "Mounted at /content/drive\n"
          ]
        }
      ]
    },
    {
      "cell_type": "code",
      "execution_count": null,
      "id": "3c9e719d",
      "metadata": {
        "colab": {
          "base_uri": "https://localhost:8080/"
        },
        "id": "3c9e719d",
        "outputId": "c0433bca-544e-4c61-ff9f-0cd8d9339fd2"
      },
      "outputs": [
        {
          "output_type": "stream",
          "name": "stdout",
          "text": [
            "Cloning into 'yolov5'...\n",
            "remote: Enumerating objects: 15973, done.\u001b[K\n",
            "remote: Counting objects: 100% (142/142), done.\u001b[K\n",
            "remote: Compressing objects: 100% (79/79), done.\u001b[K\n",
            "remote: Total 15973 (delta 84), reused 97 (delta 63), pack-reused 15831\u001b[K\n",
            "Receiving objects: 100% (15973/15973), 14.57 MiB | 24.34 MiB/s, done.\n",
            "Resolving deltas: 100% (10958/10958), done.\n"
          ]
        }
      ],
      "source": [
        "!git clone https://github.com/ultralytics/yolov5"
      ]
    },
    {
      "cell_type": "code",
      "source": [
        "!cd yolov5 && pip install -r requirements.txt"
      ],
      "metadata": {
        "colab": {
          "base_uri": "https://localhost:8080/"
        },
        "id": "28a6GTsYv7In",
        "outputId": "23199a1b-64df-4e2d-decb-4cb9c0125e23"
      },
      "id": "28a6GTsYv7In",
      "execution_count": null,
      "outputs": [
        {
          "output_type": "stream",
          "name": "stdout",
          "text": [
            "Looking in indexes: https://pypi.org/simple, https://us-python.pkg.dev/colab-wheels/public/simple/\n",
            "Collecting gitpython>=3.1.30 (from -r requirements.txt (line 5))\n",
            "  Downloading GitPython-3.1.31-py3-none-any.whl (184 kB)\n",
            "\u001b[2K     \u001b[90m━━━━━━━━━━━━━━━━━━━━━━━━━━━━━━━━━━━━━━━\u001b[0m \u001b[32m184.3/184.3 kB\u001b[0m \u001b[31m7.1 MB/s\u001b[0m eta \u001b[36m0:00:00\u001b[0m\n",
            "\u001b[?25hRequirement already satisfied: matplotlib>=3.3 in /usr/local/lib/python3.10/dist-packages (from -r requirements.txt (line 6)) (3.7.1)\n",
            "Requirement already satisfied: numpy>=1.18.5 in /usr/local/lib/python3.10/dist-packages (from -r requirements.txt (line 7)) (1.22.4)\n",
            "Requirement already satisfied: opencv-python>=4.1.1 in /usr/local/lib/python3.10/dist-packages (from -r requirements.txt (line 8)) (4.7.0.72)\n",
            "Requirement already satisfied: Pillow>=7.1.2 in /usr/local/lib/python3.10/dist-packages (from -r requirements.txt (line 9)) (8.4.0)\n",
            "Requirement already satisfied: psutil in /usr/local/lib/python3.10/dist-packages (from -r requirements.txt (line 10)) (5.9.5)\n",
            "Requirement already satisfied: PyYAML>=5.3.1 in /usr/local/lib/python3.10/dist-packages (from -r requirements.txt (line 11)) (6.0)\n",
            "Requirement already satisfied: requests>=2.23.0 in /usr/local/lib/python3.10/dist-packages (from -r requirements.txt (line 12)) (2.27.1)\n",
            "Requirement already satisfied: scipy>=1.4.1 in /usr/local/lib/python3.10/dist-packages (from -r requirements.txt (line 13)) (1.10.1)\n",
            "Collecting thop>=0.1.1 (from -r requirements.txt (line 14))\n",
            "  Downloading thop-0.1.1.post2209072238-py3-none-any.whl (15 kB)\n",
            "Requirement already satisfied: torch>=1.7.0 in /usr/local/lib/python3.10/dist-packages (from -r requirements.txt (line 15)) (2.0.1+cu118)\n",
            "Requirement already satisfied: torchvision>=0.8.1 in /usr/local/lib/python3.10/dist-packages (from -r requirements.txt (line 16)) (0.15.2+cu118)\n",
            "Requirement already satisfied: tqdm>=4.64.0 in /usr/local/lib/python3.10/dist-packages (from -r requirements.txt (line 17)) (4.65.0)\n",
            "Collecting ultralytics>=8.0.111 (from -r requirements.txt (line 18))\n",
            "  Downloading ultralytics-8.0.118-py3-none-any.whl (599 kB)\n",
            "\u001b[2K     \u001b[90m━━━━━━━━━━━━━━━━━━━━━━━━━━━━━━━━━━━━━━\u001b[0m \u001b[32m599.6/599.6 kB\u001b[0m \u001b[31m41.7 MB/s\u001b[0m eta \u001b[36m0:00:00\u001b[0m\n",
            "\u001b[?25hRequirement already satisfied: pandas>=1.1.4 in /usr/local/lib/python3.10/dist-packages (from -r requirements.txt (line 27)) (1.5.3)\n",
            "Requirement already satisfied: seaborn>=0.11.0 in /usr/local/lib/python3.10/dist-packages (from -r requirements.txt (line 28)) (0.12.2)\n",
            "Requirement already satisfied: setuptools>=65.5.1 in /usr/local/lib/python3.10/dist-packages (from -r requirements.txt (line 42)) (67.7.2)\n",
            "Collecting gitdb<5,>=4.0.1 (from gitpython>=3.1.30->-r requirements.txt (line 5))\n",
            "  Downloading gitdb-4.0.10-py3-none-any.whl (62 kB)\n",
            "\u001b[2K     \u001b[90m━━━━━━━━━━━━━━━━━━━━━━━━━━━━━━━━━━━━━━━━\u001b[0m \u001b[32m62.7/62.7 kB\u001b[0m \u001b[31m7.2 MB/s\u001b[0m eta \u001b[36m0:00:00\u001b[0m\n",
            "\u001b[?25hRequirement already satisfied: contourpy>=1.0.1 in /usr/local/lib/python3.10/dist-packages (from matplotlib>=3.3->-r requirements.txt (line 6)) (1.0.7)\n",
            "Requirement already satisfied: cycler>=0.10 in /usr/local/lib/python3.10/dist-packages (from matplotlib>=3.3->-r requirements.txt (line 6)) (0.11.0)\n",
            "Requirement already satisfied: fonttools>=4.22.0 in /usr/local/lib/python3.10/dist-packages (from matplotlib>=3.3->-r requirements.txt (line 6)) (4.39.3)\n",
            "Requirement already satisfied: kiwisolver>=1.0.1 in /usr/local/lib/python3.10/dist-packages (from matplotlib>=3.3->-r requirements.txt (line 6)) (1.4.4)\n",
            "Requirement already satisfied: packaging>=20.0 in /usr/local/lib/python3.10/dist-packages (from matplotlib>=3.3->-r requirements.txt (line 6)) (23.1)\n",
            "Requirement already satisfied: pyparsing>=2.3.1 in /usr/local/lib/python3.10/dist-packages (from matplotlib>=3.3->-r requirements.txt (line 6)) (3.0.9)\n",
            "Requirement already satisfied: python-dateutil>=2.7 in /usr/local/lib/python3.10/dist-packages (from matplotlib>=3.3->-r requirements.txt (line 6)) (2.8.2)\n",
            "Requirement already satisfied: urllib3<1.27,>=1.21.1 in /usr/local/lib/python3.10/dist-packages (from requests>=2.23.0->-r requirements.txt (line 12)) (1.26.15)\n",
            "Requirement already satisfied: certifi>=2017.4.17 in /usr/local/lib/python3.10/dist-packages (from requests>=2.23.0->-r requirements.txt (line 12)) (2022.12.7)\n",
            "Requirement already satisfied: charset-normalizer~=2.0.0 in /usr/local/lib/python3.10/dist-packages (from requests>=2.23.0->-r requirements.txt (line 12)) (2.0.12)\n",
            "Requirement already satisfied: idna<4,>=2.5 in /usr/local/lib/python3.10/dist-packages (from requests>=2.23.0->-r requirements.txt (line 12)) (3.4)\n",
            "Requirement already satisfied: filelock in /usr/local/lib/python3.10/dist-packages (from torch>=1.7.0->-r requirements.txt (line 15)) (3.12.0)\n",
            "Requirement already satisfied: typing-extensions in /usr/local/lib/python3.10/dist-packages (from torch>=1.7.0->-r requirements.txt (line 15)) (4.5.0)\n",
            "Requirement already satisfied: sympy in /usr/local/lib/python3.10/dist-packages (from torch>=1.7.0->-r requirements.txt (line 15)) (1.11.1)\n",
            "Requirement already satisfied: networkx in /usr/local/lib/python3.10/dist-packages (from torch>=1.7.0->-r requirements.txt (line 15)) (3.1)\n",
            "Requirement already satisfied: jinja2 in /usr/local/lib/python3.10/dist-packages (from torch>=1.7.0->-r requirements.txt (line 15)) (3.1.2)\n",
            "Requirement already satisfied: triton==2.0.0 in /usr/local/lib/python3.10/dist-packages (from torch>=1.7.0->-r requirements.txt (line 15)) (2.0.0)\n",
            "Requirement already satisfied: cmake in /usr/local/lib/python3.10/dist-packages (from triton==2.0.0->torch>=1.7.0->-r requirements.txt (line 15)) (3.25.2)\n",
            "Requirement already satisfied: lit in /usr/local/lib/python3.10/dist-packages (from triton==2.0.0->torch>=1.7.0->-r requirements.txt (line 15)) (16.0.5)\n",
            "Requirement already satisfied: pytz>=2020.1 in /usr/local/lib/python3.10/dist-packages (from pandas>=1.1.4->-r requirements.txt (line 27)) (2022.7.1)\n",
            "Collecting smmap<6,>=3.0.1 (from gitdb<5,>=4.0.1->gitpython>=3.1.30->-r requirements.txt (line 5))\n",
            "  Downloading smmap-5.0.0-py3-none-any.whl (24 kB)\n",
            "Requirement already satisfied: six>=1.5 in /usr/local/lib/python3.10/dist-packages (from python-dateutil>=2.7->matplotlib>=3.3->-r requirements.txt (line 6)) (1.16.0)\n",
            "Requirement already satisfied: MarkupSafe>=2.0 in /usr/local/lib/python3.10/dist-packages (from jinja2->torch>=1.7.0->-r requirements.txt (line 15)) (2.1.2)\n",
            "Requirement already satisfied: mpmath>=0.19 in /usr/local/lib/python3.10/dist-packages (from sympy->torch>=1.7.0->-r requirements.txt (line 15)) (1.3.0)\n",
            "Installing collected packages: smmap, gitdb, gitpython, ultralytics, thop\n",
            "Successfully installed gitdb-4.0.10 gitpython-3.1.31 smmap-5.0.0 thop-0.1.1.post2209072238 ultralytics-8.0.118\n"
          ]
        }
      ]
    },
    {
      "cell_type": "code",
      "execution_count": null,
      "id": "017274f2",
      "metadata": {
        "id": "017274f2"
      },
      "outputs": [],
      "source": [
        "# import matplotlib.pyplot as plt\n",
        "import numpy as np\n",
        "import torch\n",
        "import torch.nn as nn\n",
        "import cv2\n",
        "import warnings\n",
        "import matplotlib.pyplot as plt\n",
        "warnings.filterwarnings('ignore')"
      ]
    },
    {
      "cell_type": "code",
      "execution_count": null,
      "id": "3858ba76",
      "metadata": {
        "id": "3858ba76"
      },
      "outputs": [],
      "source": [
        "!cd yolov5"
      ]
    },
    {
      "cell_type": "code",
      "execution_count": null,
      "id": "1abc7dd9",
      "metadata": {
        "colab": {
          "base_uri": "https://localhost:8080/"
        },
        "id": "1abc7dd9",
        "outputId": "791e8e5e-3e0d-46e2-c786-e359489f492d"
      },
      "outputs": [
        {
          "output_type": "stream",
          "name": "stderr",
          "text": [
            "Downloading: \"https://github.com/ultralytics/yolov5/zipball/master\" to /root/.cache/torch/hub/master.zip\n",
            "YOLOv5 🚀 2023-6-16 Python-3.10.12 torch-2.0.1+cu118 CUDA:0 (Tesla T4, 15102MiB)\n",
            "\n",
            "Downloading https://github.com/ultralytics/yolov5/releases/download/v7.0/yolov5s.pt to yolov5s.pt...\n",
            "100%|██████████| 14.1M/14.1M [00:00<00:00, 277MB/s]\n",
            "\n",
            "Fusing layers... \n",
            "YOLOv5s summary: 213 layers, 7225885 parameters, 0 gradients\n",
            "Adding AutoShape... \n"
          ]
        }
      ],
      "source": [
        "model = torch.hub.load('ultralytics/yolov5','yolov5s',pretrained=True)"
      ]
    },
    {
      "cell_type": "code",
      "execution_count": null,
      "id": "af739b54",
      "metadata": {
        "id": "af739b54",
        "colab": {
          "base_uri": "https://localhost:8080/"
        },
        "outputId": "4f41b50c-c607-4ae2-e670-051e62afb025"
      },
      "outputs": [
        {
          "output_type": "stream",
          "name": "stdout",
          "text": [
            "\u001b[34m\u001b[1mdetect: \u001b[0mweights=['/content/drive/MyDrive/MICPath.pt'], source=/content/drive/MyDrive/HIP_STRYKER, data=data/coco128.yaml, imgsz=[224, 224], conf_thres=0.1, iou_thres=0.45, max_det=1000, device=, view_img=False, save_txt=False, save_conf=False, save_crop=False, nosave=False, classes=None, agnostic_nms=False, augment=False, visualize=False, update=False, project=runs/detect, name=exp, exist_ok=False, line_thickness=3, hide_labels=False, hide_conf=False, half=False, dnn=False, vid_stride=1\n",
            "YOLOv5 🚀 v7.0-181-g3812a1a Python-3.10.12 torch-2.0.1+cu118 CUDA:0 (Tesla T4, 15102MiB)\n",
            "\n",
            "Fusing layers... \n",
            "Model summary: 157 layers, 7012822 parameters, 0 gradients, 15.8 GFLOPs\n",
            "image 1/30 /content/drive/MyDrive/HIP_STRYKER/62552985poAP.jpg: 192x224 1 Implant, 62.1ms\n",
            "image 2/30 /content/drive/MyDrive/HIP_STRYKER/67233464poAP.jpg: 192x224 1 Implant, 8.3ms\n",
            "image 3/30 /content/drive/MyDrive/HIP_STRYKER/71332901poAP.jpg: 192x224 1 Implant, 5.6ms\n",
            "image 4/30 /content/drive/MyDrive/HIP_STRYKER/73068676poAP.jpg: 192x224 2 Implants, 9.5ms\n",
            "image 5/30 /content/drive/MyDrive/HIP_STRYKER/73161413poAP.jpg: 192x224 2 Implants, 5.8ms\n",
            "image 6/30 /content/drive/MyDrive/HIP_STRYKER/78135987preAP.jpg: 192x224 1 Implant, 5.7ms\n",
            "image 7/30 /content/drive/MyDrive/HIP_STRYKER/83114580poAP.jpg: 224x224 1 Implant, 6.3ms\n",
            "image 8/30 /content/drive/MyDrive/HIP_STRYKER/83194333poAP.jpg: 192x224 1 Implant, 5.9ms\n",
            "image 9/30 /content/drive/MyDrive/HIP_STRYKER/8330.jpg: 192x224 2 Implants, 5.9ms\n",
            "image 10/30 /content/drive/MyDrive/HIP_STRYKER/83360386poAP.jpg: 192x224 1 Implant, 8.0ms\n",
            "image 11/30 /content/drive/MyDrive/HIP_STRYKER/84060216poAP.jpg: 192x224 1 Implant, 5.5ms\n",
            "image 12/30 /content/drive/MyDrive/HIP_STRYKER/84064445poAP.jpg: 192x224 2 Implants, 5.5ms\n",
            "image 13/30 /content/drive/MyDrive/HIP_STRYKER/84070946poAP.jpg: 192x224 2 Implants, 5.9ms\n",
            "image 14/30 /content/drive/MyDrive/HIP_STRYKER/84097366poAP.jpg: 192x224 1 Implant, 6.0ms\n",
            "image 15/30 /content/drive/MyDrive/HIP_STRYKER/84240022poAP.jpg: 192x224 2 Implants, 5.4ms\n",
            "image 16/30 /content/drive/MyDrive/HIP_STRYKER/84308860poAP.jpg: 192x224 1 Implant, 5.9ms\n",
            "image 17/30 /content/drive/MyDrive/HIP_STRYKER/85077018poAP.jpg: 192x224 1 Implant, 5.9ms\n",
            "image 18/30 /content/drive/MyDrive/HIP_STRYKER/85152025poAP.jpg: 192x224 2 Implants, 5.9ms\n",
            "image 19/30 /content/drive/MyDrive/HIP_STRYKER/85200465intraAP_2.jpg: 192x224 (no detections), 8.1ms\n",
            "image 20/30 /content/drive/MyDrive/HIP_STRYKER/85252578poAP.jpg: 192x224 2 Implants, 8.2ms\n",
            "image 21/30 /content/drive/MyDrive/HIP_STRYKER/85324554poAP.jpg: 192x224 1 Implant, 6.5ms\n",
            "image 22/30 /content/drive/MyDrive/HIP_STRYKER/85324910poAP.jpg: 192x224 2 Implants, 6.1ms\n",
            "image 23/30 /content/drive/MyDrive/HIP_STRYKER/85407297poAP.jpg: 192x224 2 Implants, 6.1ms\n",
            "image 24/30 /content/drive/MyDrive/HIP_STRYKER/86015627poAP.jpg: 192x224 1 Implant, 6.4ms\n",
            "image 25/30 /content/drive/MyDrive/HIP_STRYKER/86091786poAP.jpg: 192x224 2 Implants, 6.2ms\n",
            "image 26/30 /content/drive/MyDrive/HIP_STRYKER/86150114preAP.jpg: 192x224 1 Implant, 5.7ms\n",
            "image 27/30 /content/drive/MyDrive/HIP_STRYKER/86160194poAP.jpg: 192x224 2 Implants, 5.6ms\n",
            "image 28/30 /content/drive/MyDrive/HIP_STRYKER/86169408preAP.jpg: 192x224 1 Implant, 6.0ms\n",
            "image 29/30 /content/drive/MyDrive/HIP_STRYKER/86337708poAP.jpg: 192x224 1 Implant, 5.9ms\n",
            "image 30/30 /content/drive/MyDrive/HIP_STRYKER/87190178poAP.jpg: 192x224 1 Implant, 5.8ms\n",
            "Speed: 0.3ms pre-process, 8.2ms inference, 5.8ms NMS per image at shape (1, 3, 224, 224)\n",
            "Results saved to \u001b[1mruns/detect/exp\u001b[0m\n"
          ]
        }
      ],
      "source": [
        "!cd yolov5 && python detect.py --weights /content/drive/MyDrive/MICPath.pt --img 224 --conf 0.10 --source /content/drive/MyDrive/HIP_STRYKER\n",
        "\n",
        "# --weights: Path file to weights\n",
        "# --img: size of image\n",
        "# --conf: minimum confidence score\n",
        "# --source: file path to foler containing test images."
      ]
    },
    {
      "cell_type": "code",
      "source": [
        "#Zipping files for download\n",
        "# !zip -r /content/yolov5/runs/detect/exp.zip /content/yolov5/runs/detect/exp"
      ],
      "metadata": {
        "colab": {
          "base_uri": "https://localhost:8080/"
        },
        "id": "q3k_BzrLQ7P6",
        "outputId": "382ed7ee-7752-4e78-c6bc-a8f09b082366"
      },
      "id": "q3k_BzrLQ7P6",
      "execution_count": null,
      "outputs": [
        {
          "output_type": "stream",
          "name": "stdout",
          "text": [
            "  adding: content/yolov5/runs/detect/exp/ (stored 0%)\n",
            "  adding: content/yolov5/runs/detect/exp/84064445poAP.jpg (deflated 6%)\n",
            "  adding: content/yolov5/runs/detect/exp/87190178poAP.jpg (deflated 5%)\n",
            "  adding: content/yolov5/runs/detect/exp/62552985poAP.jpg (deflated 7%)\n",
            "  adding: content/yolov5/runs/detect/exp/83194333poAP.jpg (deflated 9%)\n",
            "  adding: content/yolov5/runs/detect/exp/67233464poAP.jpg (deflated 6%)\n",
            "  adding: content/yolov5/runs/detect/exp/85252578poAP.jpg (deflated 5%)\n",
            "  adding: content/yolov5/runs/detect/exp/83360386poAP.jpg (deflated 7%)\n",
            "  adding: content/yolov5/runs/detect/exp/86337708poAP.jpg (deflated 5%)\n",
            "  adding: content/yolov5/runs/detect/exp/85152025poAP.jpg (deflated 5%)\n",
            "  adding: content/yolov5/runs/detect/exp/85077018poAP.jpg (deflated 4%)\n",
            "  adding: content/yolov5/runs/detect/exp/86150114preAP.jpg (deflated 6%)\n",
            "  adding: content/yolov5/runs/detect/exp/85324910poAP.jpg (deflated 4%)\n",
            "  adding: content/yolov5/runs/detect/exp/78135987preAP.jpg (deflated 4%)\n",
            "  adding: content/yolov5/runs/detect/exp/86015627poAP.jpg (deflated 5%)\n",
            "  adding: content/yolov5/runs/detect/exp/86091786poAP.jpg (deflated 4%)\n",
            "  adding: content/yolov5/runs/detect/exp/86160194poAP.jpg (deflated 4%)\n",
            "  adding: content/yolov5/runs/detect/exp/85324554poAP.jpg (deflated 6%)\n",
            "  adding: content/yolov5/runs/detect/exp/86169408preAP.jpg (deflated 4%)\n",
            "  adding: content/yolov5/runs/detect/exp/85200465intraAP_2.jpg (deflated 5%)\n",
            "  adding: content/yolov5/runs/detect/exp/73068676poAP.jpg (deflated 5%)\n",
            "  adding: content/yolov5/runs/detect/exp/84097366poAP.jpg (deflated 6%)\n",
            "  adding: content/yolov5/runs/detect/exp/84070946poAP.jpg (deflated 5%)\n",
            "  adding: content/yolov5/runs/detect/exp/85407297poAP.jpg (deflated 5%)\n",
            "  adding: content/yolov5/runs/detect/exp/84308860poAP.jpg (deflated 5%)\n",
            "  adding: content/yolov5/runs/detect/exp/83114580poAP.jpg (deflated 7%)\n",
            "  adding: content/yolov5/runs/detect/exp/71332901poAP.jpg (deflated 4%)\n",
            "  adding: content/yolov5/runs/detect/exp/73161413poAP.jpg (deflated 4%)\n",
            "  adding: content/yolov5/runs/detect/exp/84240022poAP.jpg (deflated 6%)\n",
            "  adding: content/yolov5/runs/detect/exp/8330.jpg (deflated 6%)\n",
            "  adding: content/yolov5/runs/detect/exp/84060216poAP.jpg (deflated 6%)\n"
          ]
        }
      ]
    }
  ],
  "metadata": {
    "kernelspec": {
      "display_name": "Python 3",
      "name": "python3"
    },
    "language_info": {
      "codemirror_mode": {
        "name": "ipython",
        "version": 3
      },
      "file_extension": ".py",
      "mimetype": "text/x-python",
      "name": "python",
      "nbconvert_exporter": "python",
      "pygments_lexer": "ipython3",
      "version": "3.9.12"
    },
    "colab": {
      "provenance": [],
      "gpuType": "T4",
      "machine_shape": "hm"
    },
    "accelerator": "GPU"
  },
  "nbformat": 4,
  "nbformat_minor": 5
}