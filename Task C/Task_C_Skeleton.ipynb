{
 "cells": [
  {
   "cell_type": "code",
   "execution_count": 1,
   "id": "8107c62b",
   "metadata": {},
   "outputs": [],
   "source": [
    "from __future__ import annotations\n",
    "import torch\n",
    "import torch.nn as nn\n",
    "from torch.utils.data import DataLoader,Dataset\n",
    "import torch.optim as optim\n",
    "import os\n",
    "import pandas as pd\n",
    "import numpy as np\n",
    "from sklearn.model_selection import train_test_split\n",
    "from PIL import Image\n",
    "from torchvision import transforms\n",
    "import matplotlib.pyplot as plt\n",
    "import torchvision\n",
    "from tqdm import tqdm\n",
    "import cv2\n",
    "from torchmetrics import ConfusionMatrix\n",
    "from mlxtend.plotting import plot_confusion_matrix\n",
    "from sklearn.metrics import classification_report\n",
    "import warnings\n",
    "warnings.filterwarnings(\"ignore\")\n"
   ]
  },
  {
   "cell_type": "code",
   "execution_count": 2,
   "id": "440a6b0b",
   "metadata": {},
   "outputs": [
    {
     "data": {
      "text/plain": [
       "'\\nZimmer LPS; Zimmer Persona; Depuy Attune; Maxx Freedom; -> Challenging Classes\\n\\nLink Gemini SL; Microport Media Pivot; \\nExactech Opterak Logic; Smith and Nephew Legion; Stryker NRG; DJO 3D Knee ->Non Challenging Classes\\n\\n'"
      ]
     },
     "execution_count": 2,
     "metadata": {},
     "output_type": "execute_result"
    }
   ],
   "source": [
    "class_names = ['ZIMMER - LPS','ZIMMER - PERSONA']\n",
    "\n",
    "\"\"\"\n",
    "Zimmer LPS; Zimmer Persona; Depuy Attune; Maxx Freedom; -> Challenging Classes\n",
    "\n",
    "Link Gemini SL; Microport Media Pivot; \n",
    "Exactech Opterak Logic; Smith and Nephew Legion; Stryker NRG; DJO 3D Knee ->Non Challenging Classes\n",
    "\n",
    "\"\"\""
   ]
  },
  {
   "cell_type": "code",
   "execution_count": 3,
   "id": "8eb8f195",
   "metadata": {},
   "outputs": [
    {
     "data": {
      "text/plain": [
       "2"
      ]
     },
     "execution_count": 3,
     "metadata": {},
     "output_type": "execute_result"
    }
   ],
   "source": [
    "len(class_names)"
   ]
  },
  {
   "cell_type": "code",
   "execution_count": 4,
   "id": "1633de13",
   "metadata": {},
   "outputs": [
    {
     "data": {
      "text/plain": [
       "'\\nAugmentations ->\\nrotation, translation, rotation + translation, and random image enhancement. \\n\\nEach image is augmented 284 times exactly.\\n\\n'"
      ]
     },
     "execution_count": 4,
     "metadata": {},
     "output_type": "execute_result"
    }
   ],
   "source": [
    "#Augmentation class\n",
    "class Augmentation:\n",
    "    \n",
    "    def __init__(self):\n",
    "        self.ToTensor = transforms.ToTensor()\n",
    "        self.normalize = transforms.Normalize(mean = (0.485, 0.456, 0.406), \n",
    "                       std = (0.229, 0.224, 0.225))\n",
    "        self.gaussian_blur = transforms.GaussianBlur(kernel_size=3)\n",
    "        \n",
    "    def __call__(self,image):\n",
    "        image = self.ToTensor(image)\n",
    "\n",
    "        image = self.normalize(image)\n",
    "        image = self.gaussian_blur(image)\n",
    "        \n",
    "        return image    \n",
    "\"\"\"\n",
    "Augmentations ->\n",
    "rotation, translation, rotation + translation, and random image enhancement. \n",
    "\n",
    "Each image is augmented 284 times exactly.\n",
    "\n",
    "\"\"\""
   ]
  },
  {
   "cell_type": "code",
   "execution_count": 5,
   "id": "a50e6fd3",
   "metadata": {},
   "outputs": [],
   "source": [
    "#Dataset Class\n",
    "\n",
    "class ImageClassificationDataset(Dataset):\n",
    "    def __init__(self, data_directory: str, augmentation) -> None:\n",
    "        \n",
    "        self.data_dict: pd.DataFrame = ImageClassificationDataset.prepare_dataset(\n",
    "                                        data_directory= data_directory\n",
    "                                    )\n",
    "        \n",
    "        self.augmentation  = augmentation()\n",
    "    \n",
    "    def __len__(self) -> int: \n",
    "        return len(self.data_dict)\n",
    "    \n",
    "    \n",
    "    @staticmethod\n",
    "    def la_encode(c):\n",
    "                    if c=='ZIMMER - LPS':\n",
    "                        return 0\n",
    "                  \n",
    "                    elif c== 'ZIMMER - PERSONA':\n",
    "                        return 1\n",
    "    \n",
    "    @staticmethod\n",
    "    def prepare_dataset(data_directory: str) -> pd.DataFrame:\n",
    "        image_paths: list[str] =  [os.path.join(os.path.join(data_directory, classes),filename).replace(\"\\\\\",'/') \n",
    "                                      for classes in sorted(os.listdir(data_directory)) \n",
    "                                      for filename in sorted(os.listdir(os.path.join(data_directory,classes)))]\n",
    "            \n",
    "        lab:list[str] = [os.path.join(os.path.join(data_directory, classes),filename).replace(\"\\\\\",'/').split(\"/\")[3]\n",
    "                                              for classes in sorted(os.listdir(data_directory)) \n",
    "                                              for filename in sorted(os.listdir(os.path.join(data_directory,classes)))]\n",
    "       \n",
    "        labels = list()\n",
    "        for i in lab:\n",
    "                labels.append(ImageClassificationDataset.la_encode(i))\n",
    "        \n",
    "        data_dict: dict[str, list[Union[str, int]]] = {\n",
    "            'image_path': image_paths,\n",
    "            'label': labels\n",
    "        } \n",
    "        \n",
    "        data_dict: pd.DataFrame = pd.DataFrame(data_dict)\n",
    "        return data_dict\n",
    "    \n",
    "    \n",
    "    \n",
    "    \n",
    "    def __getitem__(self, index: int) -> dict[str, torch.tensor]:\n",
    "        image_path: str = self.data_dict.loc[index, 'image_path']\n",
    "        \n",
    "        label = self.data_dict.loc[index, 'label']\n",
    "        \n",
    "        image: PIL.Image = Image.open(image_path).convert('RGB')\n",
    "        image = image.resize((224,224))\n",
    "        if self.augmentation is not None:\n",
    "                image: Any = self.augmentation(image)  #RandomResizedCropTransform(image_size=224)(image)\n",
    "        \n",
    "        return {\n",
    "            'independent_variable': image, 'dependent_variable': label\n",
    "        }"
   ]
  },
  {
   "cell_type": "code",
   "execution_count": 7,
   "id": "765eac0c",
   "metadata": {},
   "outputs": [],
   "source": [
    "data_directory = \"../data/augmented data/\" #Path to train data\n",
    "test_directory = \"../data/original test/\"  #Path to test data\n",
    "train_dataset = ImageClassificationDataset(data_directory,Augmentation)\n",
    "test_dataset = ImageClassificationDataset(test_directory,Augmentation)"
   ]
  },
  {
   "cell_type": "code",
   "execution_count": 11,
   "id": "1cd08be2",
   "metadata": {},
   "outputs": [
    {
     "data": {
      "text/plain": [
       "{'independent_variable': tensor([[[-1.7354, -1.7479, -1.7644,  ..., -1.3130, -1.3261, -1.3339],\n",
       "          [-1.7276, -1.7465, -1.7732,  ..., -1.3283, -1.3514, -1.3605],\n",
       "          [-1.7277, -1.7483, -1.7771,  ..., -1.3320, -1.3517, -1.3566],\n",
       "          ...,\n",
       "          [-1.6111, -1.6103, -1.6217,  ..., -1.7280, -1.7009, -1.6915],\n",
       "          [-1.6207, -1.6200, -1.6232,  ..., -1.7638, -1.7403, -1.7298],\n",
       "          [-1.6113, -1.6122, -1.6133,  ..., -1.7867, -1.7736, -1.7688]],\n",
       " \n",
       "         [[-1.7633, -1.7732, -1.7793,  ..., -1.2050, -1.2284, -1.2399],\n",
       "          [-1.7511, -1.7669, -1.7846,  ..., -1.2042, -1.2332, -1.2439],\n",
       "          [-1.7406, -1.7588, -1.7823,  ..., -1.1907, -1.2065, -1.2101],\n",
       "          ...,\n",
       "          [-1.6733, -1.6683, -1.6679,  ..., -1.7055, -1.6831, -1.6746],\n",
       "          [-1.6797, -1.6752, -1.6704,  ..., -1.7278, -1.7129, -1.7036],\n",
       "          [-1.6617, -1.6594, -1.6564,  ..., -1.7442, -1.7416, -1.7381]],\n",
       " \n",
       "         [[-1.3563, -1.3647, -1.3682,  ..., -0.3270, -0.3530, -0.3660],\n",
       "          [-1.3608, -1.3752, -1.3908,  ..., -0.3162, -0.3550, -0.3700],\n",
       "          [-1.3833, -1.4014, -1.4248,  ..., -0.2407, -0.2787, -0.2910],\n",
       "          ...,\n",
       "          [-1.2003, -1.1926, -1.1916,  ..., -1.3590, -1.3277, -1.3182],\n",
       "          [-1.1918, -1.1861, -1.1843,  ..., -1.3849, -1.3595, -1.3498],\n",
       "          [-1.1707, -1.1684, -1.1674,  ..., -1.4029, -1.3896, -1.3861]]]),\n",
       " 'dependent_variable': 0}"
      ]
     },
     "execution_count": 11,
     "metadata": {},
     "output_type": "execute_result"
    }
   ],
   "source": [
    "#test_dataset[6]  #1 sample value from dataset class"
   ]
  },
  {
   "cell_type": "code",
   "execution_count": 9,
   "id": "ccf8378d",
   "metadata": {},
   "outputs": [
    {
     "data": {
      "text/plain": [
       "torch.Size([3, 224, 224])"
      ]
     },
     "execution_count": 9,
     "metadata": {},
     "output_type": "execute_result"
    }
   ],
   "source": [
    "train_dataset[0][\"independent_variable\"].shape"
   ]
  },
  {
   "cell_type": "code",
   "execution_count": 10,
   "id": "f79654e3",
   "metadata": {},
   "outputs": [
    {
     "data": {
      "image/png": "[encoded data removed]",
      "text/plain": [
       "<Figure size 800x800 with 2 Axes>"
      ]
     },
     "metadata": {},
     "output_type": "display_data"
    }
   ],
   "source": [
    "import os\n",
    "import matplotlib.pyplot as plt\n",
    "import random\n",
    "\n",
    "# Set the directory containing the image subdirectories\n",
    "dir_path = test_directory\n",
    "\n",
    "# Get the subdirectories in the directory\n",
    "subdirectories = os.listdir(dir_path)\n",
    "\n",
    "# Create a figure with subplots for each class\n",
    "fig, axs = plt.subplots(1, len(subdirectories), figsize=(8, 8))\n",
    "\n",
    "# Iterate over the subdirectories and select one image from each class to display\n",
    "for i, subdir in enumerate(subdirectories):\n",
    "    class_path = os.path.join(dir_path,subdir)\n",
    "    images_path =os.listdir(class_path)\n",
    "    img=cv2.imread(class_path+\"/\"+images_path[0],0)\n",
    "    img = cv2.resize(img,(240,240))\n",
    "    axs[i].imshow(img,plt.cm.gray)\n",
    "    axs[i].axis(\"off\")\n",
    "    axs[i].set_title(images_path[0])\n",
    "        "
   ]
  },
  {
   "cell_type": "code",
   "execution_count": 11,
   "id": "03807bfb",
   "metadata": {},
   "outputs": [],
   "source": [
    "#Trainer Class\n",
    "class ImageClassifierTrainer:\n",
    "    def __init__(self, model: torch.nn.Module, train_dataset: ImageClassificationDataset,test_dataset: ImageClassificationDataset,batch_size: Optional[int] = 64, \n",
    "                                                                                    learning_rate: Optional[float] = 0.001, \n",
    "                                                                                    num_epochs: Optional[int] = 10, \n",
    "                                                                                    device: Optional[str] = 'cuda' ) -> None:\n",
    "        \n",
    "        self.model = model.to(device)\n",
    "        self.device = device if torch.cuda.is_available() else 'cpu'\n",
    "        self.num_epochs = num_epochs\n",
    "        \n",
    "        \n",
    "        self.train_loader = DataLoader(train_dataset, batch_size= batch_size, shuffle=True)\n",
    "        self.test_loader = DataLoader(test_dataset, batch_size= batch_size, shuffle = True)\n",
    "        \n",
    "        self.criterion = torch.nn.CrossEntropyLoss()\n",
    "        self.optimizer = optim.Adam(self.model.parameters(), lr= learning_rate)\n",
    "        self.scheduler = optim.lr_scheduler.ReduceLROnPlateau(self.optimizer,factor=0.1,patience=5)\n",
    "        \n",
    "        self.history: dict[str, list[float]] = {\n",
    "            'train_loss': [], 'train_acc': [],\n",
    "            'test_loss': [], 'test_acc': []\n",
    "        }\n",
    "    \n",
    "        self.dependent_values = {\n",
    "            'target' : [],\n",
    "            'predicted' : []\n",
    "        }\n",
    "        \n",
    "\n",
    "#Training loop-------------------------------------------------------------------------------------------------------------\n",
    "    def train_loop(self):\n",
    "        for epoch in range(self.num_epochs):\n",
    "            self.model.train()\n",
    "            running_loss: float = 0.0\n",
    "            running_corrects: int = 0\n",
    "            \n",
    "            for batch in tqdm(self.train_loader):\n",
    "                inputs: torch.tensor = batch['independent_variable'].to(self.device) #independent_variable-> Image\n",
    "                labels: torch.tensor = batch['dependent_variable'].to(self.device) #dependent_variable -> label\n",
    "                \n",
    "                \n",
    "                \n",
    "                outputs: torch.tensor = self.model(inputs)\n",
    "                    \n",
    "                loss: Any = self.criterion(outputs, labels)\n",
    "                _, preds = torch.max(torch.softmax(outputs,-1), 1) \n",
    "                self.optimizer.zero_grad()\n",
    "                loss.backward()\n",
    "                self.optimizer.step()\n",
    "                \n",
    "                running_loss += loss.item()\n",
    "                running_corrects += torch.sum(preds == labels.data)\n",
    "            \n",
    "        \n",
    "            epoch_loss: float = running_loss / len(self.train_loader)\n",
    "            self.scheduler.step(epoch_loss)\n",
    "            epoch_acc: float = running_corrects.double() / len(self.train_loader.dataset)\n",
    "            \n",
    "            self.history['train_loss'].append(epoch_loss)\n",
    "            self.history['train_acc'].append(epoch_acc.item())\n",
    "            \n",
    "            print(f\"Epoch {epoch + 1}/{self.num_epochs}, Train Loss: {epoch_loss:.4f}, Train Accuracy: {epoch_acc:.4f}\")\n",
    "            \n",
    "            self.dependent_values['target'] = []\n",
    "            self.dependent_values['predicted'] = []\n",
    "            self.test_loop()\n",
    "            \n",
    "          \n",
    "\n",
    "            \n",
    "        return self.history\n",
    "    \n",
    "    \n",
    "    \n",
    "\n",
    "#Validation Loop------------------------------------------------------------------------------------------------------------   \n",
    "    def test_loop(self):\n",
    "        self.model.eval()\n",
    "        running_loss: float = 0.0\n",
    "        running_corrects: int = 0\n",
    "        \n",
    "        with torch.no_grad():\n",
    "            for batch in tqdm(self.test_loader):\n",
    "                inputs: torch.tensor = batch['independent_variable'].to(self.device)\n",
    "                labels: torch.tensor = batch['dependent_variable'].to(self.device)\n",
    "                outputs: torch.tensor = self.model(inputs)\n",
    "                loss: Any = self.criterion(outputs, labels)\n",
    "                _, preds = torch.max(torch.softmax(outputs,-1), 1)\n",
    "                \n",
    "                for out,pred in zip(labels.to('cpu'),preds):\n",
    "                    \n",
    "                    self.dependent_values['target'].append(out.item())\n",
    "                    self.dependent_values['predicted'].append(pred.item())\n",
    "\n",
    "                running_loss += loss.item()\n",
    "                running_corrects += torch.sum(preds == labels.data)\n",
    "                \n",
    "            epoch_loss: float = running_loss / len(self.test_loader)\n",
    "            epoch_acc: float = running_corrects / len(self.test_loader.dataset)\n",
    "            \n",
    "            self.history['test_loss'].append(epoch_loss)\n",
    "            self.history['test_acc'].append(epoch_acc.item())\n",
    "            \n",
    "            print(f\"Test Loss: {epoch_loss:.4f}, Test Accuracy: {epoch_acc:.4f}\")\n",
    "        \n",
    "   \n",
    "    #Plotting Metrics\n",
    "    def plot_metrics(self, save_path: Optional[str] = None) -> None:\n",
    "        epochs: int = range(1, self.num_epochs + 1)\n",
    "\n",
    "        plt.figure(figsize=(12, 5))\n",
    "\n",
    "        plt.subplot(1, 2, 1)\n",
    "        plt.plot(epochs, self.history['train_loss'], label='Training Loss')\n",
    "        plt.plot(epochs, self.history['test_loss'], label='Test Loss')\n",
    "        plt.xlabel('Epochs')\n",
    "        plt.ylabel('Loss')\n",
    "        plt.legend()\n",
    "\n",
    "        plt.subplot(1, 2, 2)\n",
    "        plt.plot(epochs, self.history['train_acc'], label='Training Accuracy')\n",
    "        plt.plot(epochs, self.history['test_acc'], label='Test Accuracy')\n",
    "        plt.xlabel('Epochs')\n",
    "        plt.ylabel('Accuracy')\n",
    "        plt.legend()\n",
    "\n",
    "        if save_path:\n",
    "            plt.savefig(save_path+\"metrics.png\")\n",
    "        else:\n",
    "            plt.show()\n",
    "        \n",
    "    #Saving metrics            \n",
    "    def save_history(self, save_path: str) -> None:\n",
    "        with open(save_path, 'w') as f:\n",
    "            f.write(str(self.history))\n",
    "    \n",
    "    \n",
    "    #function to create a directory if it not exists\n",
    "    @staticmethod\n",
    "    def create_dir(path:str):\n",
    "        if not os.path.exists(path):\n",
    "            os.makedirs(path)\n",
    "            \n",
    "            \n",
    "    #Saving model\n",
    "    def save_model(self, save_path: str) -> None:\n",
    "        torch.save(self.model.state_dict(), save_path)\n",
    "    \n",
    "    \n",
    "    #confusion matrix \n",
    "    def confusion_matrix(self,save_path:str=None):\n",
    "    \n",
    "        Con = ConfusionMatrix(len(class_names))\n",
    "        c = Con(torch.tensor(self.dependent_values['predicted']),torch.tensor(self.dependent_values['target']))\n",
    "        fig,ax = plot_confusion_matrix(c.numpy(),class_names=class_names,figsize=(10,7))\n",
    "        if save_path:\n",
    "            plt.savefig(save_path+'confusion_matrix.png')\n",
    "        else:\n",
    "            pass\n",
    "        \n",
    "    #classification report  \n",
    "    def classification_report(self):\n",
    "      \n",
    "        c = classification_report(self.dependent_values['target'],self.dependent_values['predicted'])\n",
    "        print(c)"
   ]
  },
  {
   "cell_type": "code",
   "execution_count": 12,
   "id": "aa1be157",
   "metadata": {},
   "outputs": [],
   "source": [
    "class Model1(nn.Module):\n",
    "    def __init__(self):\n",
    "        super(Model1,self).__init__()\n",
    "        self.model = torchvision.models.convnext_tiny(pretrained=True)\n",
    "        for param in self.model.parameters():\n",
    "            param.requires_grad = False\n",
    "        self.model.features[0][0] = nn.Conv2d(3, 96, kernel_size=(4, 4), stride=(4, 4))\n",
    "        \n",
    "            \n",
    "        self.out_1 = nn.Linear(self.model.classifier[2].out_features,500)\n",
    "        self.out_2 = nn.Linear(500,2)\n",
    "\n",
    "        \n",
    "        \n",
    "    def forward(self,x):\n",
    "        out = self.model(x)\n",
    "        out = self.out_1(out)\n",
    "        out = self.out_2(out)\n",
    "        return out"
   ]
  },
  {
   "cell_type": "code",
   "execution_count": 13,
   "id": "4bbfb831",
   "metadata": {},
   "outputs": [],
   "source": [
    "classifier_convnext = Model1()"
   ]
  },
  {
   "cell_type": "code",
   "execution_count": 14,
   "id": "3e796670",
   "metadata": {},
   "outputs": [
    {
     "data": {
      "text/plain": [
       "Model1(\n",
       "  (model): ConvNeXt(\n",
       "    (features): Sequential(\n",
       "      (0): ConvNormActivation(\n",
       "        (0): Conv2d(3, 96, kernel_size=(4, 4), stride=(4, 4))\n",
       "        (1): LayerNorm2d((96,), eps=1e-06, elementwise_affine=True)\n",
       "      )\n",
       "      (1): Sequential(\n",
       "        (0): CNBlock(\n",
       "          (block): Sequential(\n",
       "            (0): Conv2d(96, 96, kernel_size=(7, 7), stride=(1, 1), padding=(3, 3), groups=96)\n",
       "            (1): Permute()\n",
       "            (2): LayerNorm((96,), eps=1e-06, elementwise_affine=True)\n",
       "            (3): Linear(in_features=96, out_features=384, bias=True)\n",
       "            (4): GELU()\n",
       "            (5): Linear(in_features=384, out_features=96, bias=True)\n",
       "            (6): Permute()\n",
       "          )\n",
       "          (stochastic_depth): StochasticDepth(p=0.0, mode=row)\n",
       "        )\n",
       "        (1): CNBlock(\n",
       "          (block): Sequential(\n",
       "            (0): Conv2d(96, 96, kernel_size=(7, 7), stride=(1, 1), padding=(3, 3), groups=96)\n",
       "            (1): Permute()\n",
       "            (2): LayerNorm((96,), eps=1e-06, elementwise_affine=True)\n",
       "            (3): Linear(in_features=96, out_features=384, bias=True)\n",
       "            (4): GELU()\n",
       "            (5): Linear(in_features=384, out_features=96, bias=True)\n",
       "            (6): Permute()\n",
       "          )\n",
       "          (stochastic_depth): StochasticDepth(p=0.0058823529411764705, mode=row)\n",
       "        )\n",
       "        (2): CNBlock(\n",
       "          (block): Sequential(\n",
       "            (0): Conv2d(96, 96, kernel_size=(7, 7), stride=(1, 1), padding=(3, 3), groups=96)\n",
       "            (1): Permute()\n",
       "            (2): LayerNorm((96,), eps=1e-06, elementwise_affine=True)\n",
       "            (3): Linear(in_features=96, out_features=384, bias=True)\n",
       "            (4): GELU()\n",
       "            (5): Linear(in_features=384, out_features=96, bias=True)\n",
       "            (6): Permute()\n",
       "          )\n",
       "          (stochastic_depth): StochasticDepth(p=0.011764705882352941, mode=row)\n",
       "        )\n",
       "      )\n",
       "      (2): Sequential(\n",
       "        (0): LayerNorm2d((96,), eps=1e-06, elementwise_affine=True)\n",
       "        (1): Conv2d(96, 192, kernel_size=(2, 2), stride=(2, 2))\n",
       "      )\n",
       "      (3): Sequential(\n",
       "        (0): CNBlock(\n",
       "          (block): Sequential(\n",
       "            (0): Conv2d(192, 192, kernel_size=(7, 7), stride=(1, 1), padding=(3, 3), groups=192)\n",
       "            (1): Permute()\n",
       "            (2): LayerNorm((192,), eps=1e-06, elementwise_affine=True)\n",
       "            (3): Linear(in_features=192, out_features=768, bias=True)\n",
       "            (4): GELU()\n",
       "            (5): Linear(in_features=768, out_features=192, bias=True)\n",
       "            (6): Permute()\n",
       "          )\n",
       "          (stochastic_depth): StochasticDepth(p=0.017647058823529415, mode=row)\n",
       "        )\n",
       "        (1): CNBlock(\n",
       "          (block): Sequential(\n",
       "            (0): Conv2d(192, 192, kernel_size=(7, 7), stride=(1, 1), padding=(3, 3), groups=192)\n",
       "            (1): Permute()\n",
       "            (2): LayerNorm((192,), eps=1e-06, elementwise_affine=True)\n",
       "            (3): Linear(in_features=192, out_features=768, bias=True)\n",
       "            (4): GELU()\n",
       "            (5): Linear(in_features=768, out_features=192, bias=True)\n",
       "            (6): Permute()\n",
       "          )\n",
       "          (stochastic_depth): StochasticDepth(p=0.023529411764705882, mode=row)\n",
       "        )\n",
       "        (2): CNBlock(\n",
       "          (block): Sequential(\n",
       "            (0): Conv2d(192, 192, kernel_size=(7, 7), stride=(1, 1), padding=(3, 3), groups=192)\n",
       "            (1): Permute()\n",
       "            (2): LayerNorm((192,), eps=1e-06, elementwise_affine=True)\n",
       "            (3): Linear(in_features=192, out_features=768, bias=True)\n",
       "            (4): GELU()\n",
       "            (5): Linear(in_features=768, out_features=192, bias=True)\n",
       "            (6): Permute()\n",
       "          )\n",
       "          (stochastic_depth): StochasticDepth(p=0.029411764705882353, mode=row)\n",
       "        )\n",
       "      )\n",
       "      (4): Sequential(\n",
       "        (0): LayerNorm2d((192,), eps=1e-06, elementwise_affine=True)\n",
       "        (1): Conv2d(192, 384, kernel_size=(2, 2), stride=(2, 2))\n",
       "      )\n",
       "      (5): Sequential(\n",
       "        (0): CNBlock(\n",
       "          (block): Sequential(\n",
       "            (0): Conv2d(384, 384, kernel_size=(7, 7), stride=(1, 1), padding=(3, 3), groups=384)\n",
       "            (1): Permute()\n",
       "            (2): LayerNorm((384,), eps=1e-06, elementwise_affine=True)\n",
       "            (3): Linear(in_features=384, out_features=1536, bias=True)\n",
       "            (4): GELU()\n",
       "            (5): Linear(in_features=1536, out_features=384, bias=True)\n",
       "            (6): Permute()\n",
       "          )\n",
       "          (stochastic_depth): StochasticDepth(p=0.03529411764705883, mode=row)\n",
       "        )\n",
       "        (1): CNBlock(\n",
       "          (block): Sequential(\n",
       "            (0): Conv2d(384, 384, kernel_size=(7, 7), stride=(1, 1), padding=(3, 3), groups=384)\n",
       "            (1): Permute()\n",
       "            (2): LayerNorm((384,), eps=1e-06, elementwise_affine=True)\n",
       "            (3): Linear(in_features=384, out_features=1536, bias=True)\n",
       "            (4): GELU()\n",
       "            (5): Linear(in_features=1536, out_features=384, bias=True)\n",
       "            (6): Permute()\n",
       "          )\n",
       "          (stochastic_depth): StochasticDepth(p=0.0411764705882353, mode=row)\n",
       "        )\n",
       "        (2): CNBlock(\n",
       "          (block): Sequential(\n",
       "            (0): Conv2d(384, 384, kernel_size=(7, 7), stride=(1, 1), padding=(3, 3), groups=384)\n",
       "            (1): Permute()\n",
       "            (2): LayerNorm((384,), eps=1e-06, elementwise_affine=True)\n",
       "            (3): Linear(in_features=384, out_features=1536, bias=True)\n",
       "            (4): GELU()\n",
       "            (5): Linear(in_features=1536, out_features=384, bias=True)\n",
       "            (6): Permute()\n",
       "          )\n",
       "          (stochastic_depth): StochasticDepth(p=0.047058823529411764, mode=row)\n",
       "        )\n",
       "        (3): CNBlock(\n",
       "          (block): Sequential(\n",
       "            (0): Conv2d(384, 384, kernel_size=(7, 7), stride=(1, 1), padding=(3, 3), groups=384)\n",
       "            (1): Permute()\n",
       "            (2): LayerNorm((384,), eps=1e-06, elementwise_affine=True)\n",
       "            (3): Linear(in_features=384, out_features=1536, bias=True)\n",
       "            (4): GELU()\n",
       "            (5): Linear(in_features=1536, out_features=384, bias=True)\n",
       "            (6): Permute()\n",
       "          )\n",
       "          (stochastic_depth): StochasticDepth(p=0.052941176470588235, mode=row)\n",
       "        )\n",
       "        (4): CNBlock(\n",
       "          (block): Sequential(\n",
       "            (0): Conv2d(384, 384, kernel_size=(7, 7), stride=(1, 1), padding=(3, 3), groups=384)\n",
       "            (1): Permute()\n",
       "            (2): LayerNorm((384,), eps=1e-06, elementwise_affine=True)\n",
       "            (3): Linear(in_features=384, out_features=1536, bias=True)\n",
       "            (4): GELU()\n",
       "            (5): Linear(in_features=1536, out_features=384, bias=True)\n",
       "            (6): Permute()\n",
       "          )\n",
       "          (stochastic_depth): StochasticDepth(p=0.058823529411764705, mode=row)\n",
       "        )\n",
       "        (5): CNBlock(\n",
       "          (block): Sequential(\n",
       "            (0): Conv2d(384, 384, kernel_size=(7, 7), stride=(1, 1), padding=(3, 3), groups=384)\n",
       "            (1): Permute()\n",
       "            (2): LayerNorm((384,), eps=1e-06, elementwise_affine=True)\n",
       "            (3): Linear(in_features=384, out_features=1536, bias=True)\n",
       "            (4): GELU()\n",
       "            (5): Linear(in_features=1536, out_features=384, bias=True)\n",
       "            (6): Permute()\n",
       "          )\n",
       "          (stochastic_depth): StochasticDepth(p=0.06470588235294118, mode=row)\n",
       "        )\n",
       "        (6): CNBlock(\n",
       "          (block): Sequential(\n",
       "            (0): Conv2d(384, 384, kernel_size=(7, 7), stride=(1, 1), padding=(3, 3), groups=384)\n",
       "            (1): Permute()\n",
       "            (2): LayerNorm((384,), eps=1e-06, elementwise_affine=True)\n",
       "            (3): Linear(in_features=384, out_features=1536, bias=True)\n",
       "            (4): GELU()\n",
       "            (5): Linear(in_features=1536, out_features=384, bias=True)\n",
       "            (6): Permute()\n",
       "          )\n",
       "          (stochastic_depth): StochasticDepth(p=0.07058823529411766, mode=row)\n",
       "        )\n",
       "        (7): CNBlock(\n",
       "          (block): Sequential(\n",
       "            (0): Conv2d(384, 384, kernel_size=(7, 7), stride=(1, 1), padding=(3, 3), groups=384)\n",
       "            (1): Permute()\n",
       "            (2): LayerNorm((384,), eps=1e-06, elementwise_affine=True)\n",
       "            (3): Linear(in_features=384, out_features=1536, bias=True)\n",
       "            (4): GELU()\n",
       "            (5): Linear(in_features=1536, out_features=384, bias=True)\n",
       "            (6): Permute()\n",
       "          )\n",
       "          (stochastic_depth): StochasticDepth(p=0.07647058823529412, mode=row)\n",
       "        )\n",
       "        (8): CNBlock(\n",
       "          (block): Sequential(\n",
       "            (0): Conv2d(384, 384, kernel_size=(7, 7), stride=(1, 1), padding=(3, 3), groups=384)\n",
       "            (1): Permute()\n",
       "            (2): LayerNorm((384,), eps=1e-06, elementwise_affine=True)\n",
       "            (3): Linear(in_features=384, out_features=1536, bias=True)\n",
       "            (4): GELU()\n",
       "            (5): Linear(in_features=1536, out_features=384, bias=True)\n",
       "            (6): Permute()\n",
       "          )\n",
       "          (stochastic_depth): StochasticDepth(p=0.0823529411764706, mode=row)\n",
       "        )\n",
       "      )\n",
       "      (6): Sequential(\n",
       "        (0): LayerNorm2d((384,), eps=1e-06, elementwise_affine=True)\n",
       "        (1): Conv2d(384, 768, kernel_size=(2, 2), stride=(2, 2))\n",
       "      )\n",
       "      (7): Sequential(\n",
       "        (0): CNBlock(\n",
       "          (block): Sequential(\n",
       "            (0): Conv2d(768, 768, kernel_size=(7, 7), stride=(1, 1), padding=(3, 3), groups=768)\n",
       "            (1): Permute()\n",
       "            (2): LayerNorm((768,), eps=1e-06, elementwise_affine=True)\n",
       "            (3): Linear(in_features=768, out_features=3072, bias=True)\n",
       "            (4): GELU()\n",
       "            (5): Linear(in_features=3072, out_features=768, bias=True)\n",
       "            (6): Permute()\n",
       "          )\n",
       "          (stochastic_depth): StochasticDepth(p=0.08823529411764706, mode=row)\n",
       "        )\n",
       "        (1): CNBlock(\n",
       "          (block): Sequential(\n",
       "            (0): Conv2d(768, 768, kernel_size=(7, 7), stride=(1, 1), padding=(3, 3), groups=768)\n",
       "            (1): Permute()\n",
       "            (2): LayerNorm((768,), eps=1e-06, elementwise_affine=True)\n",
       "            (3): Linear(in_features=768, out_features=3072, bias=True)\n",
       "            (4): GELU()\n",
       "            (5): Linear(in_features=3072, out_features=768, bias=True)\n",
       "            (6): Permute()\n",
       "          )\n",
       "          (stochastic_depth): StochasticDepth(p=0.09411764705882353, mode=row)\n",
       "        )\n",
       "        (2): CNBlock(\n",
       "          (block): Sequential(\n",
       "            (0): Conv2d(768, 768, kernel_size=(7, 7), stride=(1, 1), padding=(3, 3), groups=768)\n",
       "            (1): Permute()\n",
       "            (2): LayerNorm((768,), eps=1e-06, elementwise_affine=True)\n",
       "            (3): Linear(in_features=768, out_features=3072, bias=True)\n",
       "            (4): GELU()\n",
       "            (5): Linear(in_features=3072, out_features=768, bias=True)\n",
       "            (6): Permute()\n",
       "          )\n",
       "          (stochastic_depth): StochasticDepth(p=0.1, mode=row)\n",
       "        )\n",
       "      )\n",
       "    )\n",
       "    (avgpool): AdaptiveAvgPool2d(output_size=1)\n",
       "    (classifier): Sequential(\n",
       "      (0): LayerNorm2d((768,), eps=1e-06, elementwise_affine=True)\n",
       "      (1): Flatten(start_dim=1, end_dim=-1)\n",
       "      (2): Linear(in_features=768, out_features=1000, bias=True)\n",
       "    )\n",
       "  )\n",
       "  (out_1): Linear(in_features=1000, out_features=500, bias=True)\n",
       "  (out_2): Linear(in_features=500, out_features=2, bias=True)\n",
       ")"
      ]
     },
     "execution_count": 14,
     "metadata": {},
     "output_type": "execute_result"
    }
   ],
   "source": [
    "#printing our model architecture\n",
    "#classifier_convnext"
   ]
  },
  {
   "cell_type": "code",
   "execution_count": 15,
   "id": "65f63e06",
   "metadata": {},
   "outputs": [],
   "source": [
    "trainer_conv = ImageClassifierTrainer(classifier_convnext,train_dataset,test_dataset,batch_size=32,num_epochs=10)"
   ]
  },
  {
   "cell_type": "code",
   "execution_count": 16,
   "id": "8fa09bad",
   "metadata": {
    "scrolled": true
   },
   "outputs": [
    {
     "data": {
      "text/plain": [
       "{'independent_variable': tensor([[[[-2.1179, -2.1179, -2.1179,  ..., -2.1179, -2.1179, -2.1179],\n",
       "           [-2.1179, -2.1179, -2.1179,  ..., -2.1179, -2.1179, -2.1179],\n",
       "           [-2.1179, -2.1179, -2.1179,  ..., -2.1179, -2.1179, -2.1179],\n",
       "           ...,\n",
       "           [-2.1179, -2.1179, -2.1179,  ..., -2.1179, -2.1179, -2.1179],\n",
       "           [-2.1179, -2.1179, -2.1179,  ..., -2.1179, -2.1179, -2.1179],\n",
       "           [-2.1179, -2.1179, -2.1179,  ..., -2.1179, -2.1179, -2.1179]],\n",
       " \n",
       "          [[-2.0357, -2.0357, -2.0357,  ..., -2.0357, -2.0357, -2.0357],\n",
       "           [-2.0357, -2.0357, -2.0357,  ..., -2.0357, -2.0357, -2.0357],\n",
       "           [-2.0357, -2.0357, -2.0357,  ..., -2.0357, -2.0357, -2.0357],\n",
       "           ...,\n",
       "           [-2.0357, -2.0357, -2.0357,  ..., -2.0357, -2.0357, -2.0357],\n",
       "           [-2.0357, -2.0357, -2.0357,  ..., -2.0357, -2.0357, -2.0357],\n",
       "           [-2.0357, -2.0357, -2.0357,  ..., -2.0357, -2.0357, -2.0357]],\n",
       " \n",
       "          [[-1.8044, -1.8044, -1.8044,  ..., -1.8044, -1.8044, -1.8044],\n",
       "           [-1.8044, -1.8044, -1.8044,  ..., -1.8044, -1.8044, -1.8044],\n",
       "           [-1.8044, -1.8044, -1.8044,  ..., -1.8044, -1.8044, -1.8044],\n",
       "           ...,\n",
       "           [-1.8044, -1.8044, -1.8044,  ..., -1.8044, -1.8044, -1.8044],\n",
       "           [-1.8044, -1.8044, -1.8044,  ..., -1.8044, -1.8044, -1.8044],\n",
       "           [-1.8044, -1.8044, -1.8044,  ..., -1.8044, -1.8044, -1.8044]]],\n",
       " \n",
       " \n",
       "         [[[-2.1179, -2.1179, -2.1179,  ..., -2.1179, -2.1179, -2.1179],\n",
       "           [-2.1179, -2.1179, -2.1179,  ..., -2.1179, -2.1179, -2.1179],\n",
       "           [-2.1179, -2.1179, -2.1179,  ..., -2.1179, -2.1179, -2.1179],\n",
       "           ...,\n",
       "           [-2.1179, -2.1179, -2.1179,  ..., -2.1179, -2.1179, -2.1179],\n",
       "           [-2.1179, -2.1179, -2.1179,  ..., -2.1179, -2.1179, -2.1179],\n",
       "           [-2.1179, -2.1179, -2.1179,  ..., -2.1179, -2.1179, -2.1179]],\n",
       " \n",
       "          [[-2.0357, -2.0357, -2.0357,  ..., -2.0357, -2.0357, -2.0357],\n",
       "           [-2.0357, -2.0357, -2.0357,  ..., -2.0357, -2.0357, -2.0357],\n",
       "           [-2.0357, -2.0357, -2.0357,  ..., -2.0357, -2.0357, -2.0357],\n",
       "           ...,\n",
       "           [-2.0357, -2.0357, -2.0357,  ..., -2.0357, -2.0357, -2.0357],\n",
       "           [-2.0357, -2.0357, -2.0357,  ..., -2.0357, -2.0357, -2.0357],\n",
       "           [-2.0357, -2.0357, -2.0357,  ..., -2.0357, -2.0357, -2.0357]],\n",
       " \n",
       "          [[-1.8044, -1.8044, -1.8044,  ..., -1.8044, -1.8044, -1.8044],\n",
       "           [-1.8044, -1.8044, -1.8044,  ..., -1.8044, -1.8044, -1.8044],\n",
       "           [-1.8044, -1.8044, -1.8044,  ..., -1.8044, -1.8044, -1.8044],\n",
       "           ...,\n",
       "           [-1.8044, -1.8044, -1.8044,  ..., -1.8044, -1.8044, -1.8044],\n",
       "           [-1.8044, -1.8044, -1.8044,  ..., -1.8044, -1.8044, -1.8044],\n",
       "           [-1.8044, -1.8044, -1.8044,  ..., -1.8044, -1.8044, -1.8044]]],\n",
       " \n",
       " \n",
       "         [[[-2.1179, -2.1179, -2.1179,  ..., -2.1179, -2.1179, -2.1179],\n",
       "           [-2.1179, -2.1179, -2.1179,  ..., -2.1179, -2.1179, -2.1179],\n",
       "           [-2.1179, -2.1179, -2.1179,  ..., -2.1179, -2.1179, -2.1179],\n",
       "           ...,\n",
       "           [-2.0835, -1.9638, -1.8952,  ..., -2.1179, -2.1179, -2.1179],\n",
       "           [-2.1008, -2.1178, -2.0836,  ..., -2.1179, -2.1179, -2.1179],\n",
       "           [-2.1179, -2.1179, -2.1179,  ..., -2.1179, -2.1179, -2.1179]],\n",
       " \n",
       "          [[-2.0357, -2.0357, -2.0357,  ..., -2.0357, -2.0357, -2.0357],\n",
       "           [-2.0357, -2.0357, -2.0357,  ..., -2.0357, -2.0357, -2.0357],\n",
       "           [-2.0357, -2.0357, -2.0357,  ..., -2.0357, -2.0357, -2.0357],\n",
       "           ...,\n",
       "           [-2.0357, -2.0182, -2.0355,  ..., -2.0357, -2.0357, -2.0357],\n",
       "           [-2.0357, -2.0357, -2.0182,  ..., -2.0357, -2.0357, -2.0357],\n",
       "           [-2.0182, -2.0357, -2.0357,  ..., -2.0357, -2.0357, -2.0357]],\n",
       " \n",
       "          [[-1.8044, -1.8044, -1.8044,  ..., -1.8044, -1.8044, -1.8044],\n",
       "           [-1.8044, -1.8044, -1.8044,  ..., -1.8044, -1.8044, -1.8044],\n",
       "           [-1.8044, -1.8044, -1.8044,  ..., -1.8044, -1.8044, -1.8044],\n",
       "           ...,\n",
       "           [-1.6997, -1.5082, -1.3512,  ..., -1.8044, -1.8044, -1.8044],\n",
       "           [-1.8044, -1.7869, -1.6997,  ..., -1.8044, -1.8044, -1.8044],\n",
       "           [-1.8044, -1.8044, -1.8044,  ..., -1.8044, -1.8044, -1.8044]]],\n",
       " \n",
       " \n",
       "         ...,\n",
       " \n",
       " \n",
       "         [[[-2.1179, -2.1179, -2.1179,  ..., -2.1179, -2.1179, -2.1179],\n",
       "           [-2.1179, -2.1179, -2.1179,  ..., -2.1179, -2.1179, -2.1179],\n",
       "           [-2.1179, -2.1179, -2.1179,  ..., -2.1179, -2.1179, -2.1179],\n",
       "           ...,\n",
       "           [-2.1179, -2.1166, -2.1158,  ..., -2.1179, -2.1179, -2.1179],\n",
       "           [-2.1179, -2.1179, -2.1179,  ..., -2.1179, -2.1179, -2.1179],\n",
       "           [-2.1179, -2.1179, -2.1179,  ..., -2.1179, -2.1179, -2.1179]],\n",
       " \n",
       "          [[-2.0357, -2.0357, -2.0357,  ..., -2.0357, -2.0357, -2.0357],\n",
       "           [-2.0357, -2.0357, -2.0357,  ..., -2.0357, -2.0357, -2.0357],\n",
       "           [-2.0357, -2.0357, -2.0357,  ..., -2.0357, -2.0357, -2.0357],\n",
       "           ...,\n",
       "           [-2.0299, -2.0310, -2.0335,  ..., -2.0357, -2.0357, -2.0357],\n",
       "           [-2.0277, -2.0310, -2.0357,  ..., -2.0357, -2.0357, -2.0357],\n",
       "           [-2.0277, -2.0310, -2.0357,  ..., -2.0357, -2.0357, -2.0357]],\n",
       " \n",
       "          [[-1.8044, -1.8044, -1.8044,  ..., -1.8044, -1.8044, -1.8044],\n",
       "           [-1.8044, -1.8044, -1.8044,  ..., -1.8044, -1.8044, -1.8044],\n",
       "           [-1.8044, -1.8044, -1.8044,  ..., -1.8044, -1.8044, -1.8044],\n",
       "           ...,\n",
       "           [-1.8044, -1.8032, -1.8023,  ..., -1.8044, -1.8044, -1.8044],\n",
       "           [-1.8044, -1.8044, -1.8044,  ..., -1.8044, -1.8044, -1.8044],\n",
       "           [-1.8044, -1.8044, -1.8044,  ..., -1.8044, -1.8044, -1.8044]]],\n",
       " \n",
       " \n",
       "         [[[-2.1179, -2.1179, -2.1179,  ..., -2.1179, -2.1179, -2.1179],\n",
       "           [-2.1179, -2.1179, -2.1179,  ..., -2.1179, -2.1179, -2.1179],\n",
       "           [-2.1179, -2.1179, -2.1179,  ..., -2.1179, -2.1179, -2.1179],\n",
       "           ...,\n",
       "           [-2.1179, -2.1179, -2.1179,  ..., -1.7566, -1.7583, -1.7532],\n",
       "           [-2.1179, -2.1179, -2.1179,  ..., -1.7631, -1.7403, -1.7232],\n",
       "           [-2.1179, -2.1179, -2.1179,  ..., -1.7744, -1.7440, -1.7232]],\n",
       " \n",
       "          [[-2.0357, -2.0357, -2.0357,  ..., -2.0357, -2.0357, -2.0357],\n",
       "           [-2.0357, -2.0357, -2.0357,  ..., -2.0357, -2.0357, -2.0357],\n",
       "           [-2.0357, -2.0357, -2.0357,  ..., -2.0357, -2.0357, -2.0357],\n",
       "           ...,\n",
       "           [-2.0357, -2.0357, -2.0357,  ..., -1.7188, -1.7206, -1.7154],\n",
       "           [-2.0357, -2.0357, -2.0357,  ..., -1.7255, -1.7022, -1.6847],\n",
       "           [-2.0357, -2.0357, -2.0357,  ..., -1.7371, -1.7060, -1.6847]],\n",
       " \n",
       "          [[-1.8044, -1.8044, -1.8044,  ..., -1.8044, -1.8044, -1.8044],\n",
       "           [-1.8044, -1.8044, -1.8044,  ..., -1.8044, -1.8044, -1.8044],\n",
       "           [-1.8044, -1.8044, -1.8044,  ..., -1.8044, -1.8044, -1.8044],\n",
       "           ...,\n",
       "           [-1.8044, -1.8044, -1.8044,  ..., -1.3266, -1.3270, -1.3210],\n",
       "           [-1.8044, -1.8044, -1.8044,  ..., -1.3170, -1.2897, -1.2688],\n",
       "           [-1.8044, -1.8044, -1.8044,  ..., -1.3197, -1.2840, -1.2578]]],\n",
       " \n",
       " \n",
       "         [[[-2.1179, -2.1179, -2.1179,  ..., -2.1179, -2.1179, -2.1179],\n",
       "           [-2.1179, -2.1179, -2.1179,  ..., -2.1179, -2.1179, -2.1179],\n",
       "           [-2.1179, -2.1179, -2.1179,  ..., -2.1179, -2.1179, -2.1179],\n",
       "           ...,\n",
       "           [-2.1179, -2.1179, -2.1179,  ..., -2.1179, -2.1179, -2.1179],\n",
       "           [-2.1179, -2.1179, -2.1179,  ..., -2.1179, -2.1179, -2.1179],\n",
       "           [-2.1179, -2.1179, -2.1179,  ..., -2.1179, -2.1179, -2.1179]],\n",
       " \n",
       "          [[-2.0357, -2.0357, -2.0357,  ..., -2.0357, -2.0357, -2.0357],\n",
       "           [-2.0357, -2.0357, -2.0357,  ..., -2.0357, -2.0357, -2.0357],\n",
       "           [-2.0357, -2.0357, -2.0357,  ..., -2.0357, -2.0357, -2.0357],\n",
       "           ...,\n",
       "           [-2.0357, -2.0357, -2.0357,  ..., -2.0357, -2.0357, -2.0357],\n",
       "           [-2.0357, -2.0357, -2.0357,  ..., -2.0357, -2.0357, -2.0357],\n",
       "           [-2.0357, -2.0357, -2.0357,  ..., -2.0357, -2.0357, -2.0357]],\n",
       " \n",
       "          [[-1.8044, -1.8044, -1.8044,  ..., -1.8044, -1.8044, -1.8044],\n",
       "           [-1.8044, -1.8044, -1.8044,  ..., -1.8044, -1.8044, -1.8044],\n",
       "           [-1.8044, -1.8044, -1.8044,  ..., -1.8044, -1.8044, -1.8044],\n",
       "           ...,\n",
       "           [-1.8044, -1.8044, -1.8044,  ..., -1.8044, -1.8044, -1.8044],\n",
       "           [-1.8044, -1.8044, -1.8044,  ..., -1.8044, -1.8044, -1.8044],\n",
       "           [-1.8044, -1.8044, -1.8044,  ..., -1.8044, -1.8044, -1.8044]]]]),\n",
       " 'dependent_variable': tensor([1, 0, 0, 1, 0, 0, 1, 1, 1, 0, 0, 0, 0, 0, 0, 0, 1, 0, 0, 0, 1, 0, 0, 1,\n",
       "         0, 0, 0, 1, 0, 0, 1, 1])}"
      ]
     },
     "execution_count": 16,
     "metadata": {},
     "output_type": "execute_result"
    }
   ],
   "source": [
    "#next(iter(trainer_conv.train_loader)) #1 sample batch from trainer class"
   ]
  },
  {
   "cell_type": "code",
   "execution_count": 17,
   "id": "e051a3b9",
   "metadata": {
    "scrolled": true
   },
   "outputs": [
    {
     "name": "stderr",
     "output_type": "stream",
     "text": [
      "100%|████████████████████████████████████████████████████████████████████████████████| 533/533 [11:29<00:00,  1.29s/it]\n"
     ]
    },
    {
     "name": "stdout",
     "output_type": "stream",
     "text": [
      "Epoch 1/10, Train Loss: 0.2731, Train Accuracy: 0.8919\n"
     ]
    },
    {
     "name": "stderr",
     "output_type": "stream",
     "text": [
      "100%|████████████████████████████████████████████████████████████████████████████████████| 7/7 [00:07<00:00,  1.03s/it]\n"
     ]
    },
    {
     "name": "stdout",
     "output_type": "stream",
     "text": [
      "Test Loss: 0.6590, Test Accuracy: 0.7799\n"
     ]
    },
    {
     "name": "stderr",
     "output_type": "stream",
     "text": [
      "100%|████████████████████████████████████████████████████████████████████████████████| 533/533 [09:26<00:00,  1.06s/it]\n"
     ]
    },
    {
     "name": "stdout",
     "output_type": "stream",
     "text": [
      "Epoch 2/10, Train Loss: 0.0812, Train Accuracy: 0.9700\n"
     ]
    },
    {
     "name": "stderr",
     "output_type": "stream",
     "text": [
      "100%|████████████████████████████████████████████████████████████████████████████████████| 7/7 [00:09<00:00,  1.31s/it]\n"
     ]
    },
    {
     "name": "stdout",
     "output_type": "stream",
     "text": [
      "Test Loss: 0.8137, Test Accuracy: 0.7703\n"
     ]
    },
    {
     "name": "stderr",
     "output_type": "stream",
     "text": [
      "100%|████████████████████████████████████████████████████████████████████████████████| 533/533 [09:39<00:00,  1.09s/it]\n"
     ]
    },
    {
     "name": "stdout",
     "output_type": "stream",
     "text": [
      "Epoch 3/10, Train Loss: 0.0581, Train Accuracy: 0.9783\n"
     ]
    },
    {
     "name": "stderr",
     "output_type": "stream",
     "text": [
      "100%|████████████████████████████████████████████████████████████████████████████████████| 7/7 [00:07<00:00,  1.04s/it]\n"
     ]
    },
    {
     "name": "stdout",
     "output_type": "stream",
     "text": [
      "Test Loss: 1.2547, Test Accuracy: 0.7464\n"
     ]
    },
    {
     "name": "stderr",
     "output_type": "stream",
     "text": [
      "100%|████████████████████████████████████████████████████████████████████████████████| 533/533 [09:48<00:00,  1.10s/it]\n"
     ]
    },
    {
     "name": "stdout",
     "output_type": "stream",
     "text": [
      "Epoch 4/10, Train Loss: 0.0435, Train Accuracy: 0.9837\n"
     ]
    },
    {
     "name": "stderr",
     "output_type": "stream",
     "text": [
      "100%|████████████████████████████████████████████████████████████████████████████████████| 7/7 [00:06<00:00,  1.13it/s]\n"
     ]
    },
    {
     "name": "stdout",
     "output_type": "stream",
     "text": [
      "Test Loss: 2.2239, Test Accuracy: 0.7081\n"
     ]
    },
    {
     "name": "stderr",
     "output_type": "stream",
     "text": [
      "100%|████████████████████████████████████████████████████████████████████████████████| 533/533 [09:46<00:00,  1.10s/it]\n"
     ]
    },
    {
     "name": "stdout",
     "output_type": "stream",
     "text": [
      "Epoch 5/10, Train Loss: 0.0448, Train Accuracy: 0.9843\n"
     ]
    },
    {
     "name": "stderr",
     "output_type": "stream",
     "text": [
      "100%|████████████████████████████████████████████████████████████████████████████████████| 7/7 [00:05<00:00,  1.24it/s]\n"
     ]
    },
    {
     "name": "stdout",
     "output_type": "stream",
     "text": [
      "Test Loss: 2.0565, Test Accuracy: 0.6986\n"
     ]
    },
    {
     "name": "stderr",
     "output_type": "stream",
     "text": [
      "100%|████████████████████████████████████████████████████████████████████████████████| 533/533 [10:10<00:00,  1.15s/it]\n"
     ]
    },
    {
     "name": "stdout",
     "output_type": "stream",
     "text": [
      "Epoch 6/10, Train Loss: 0.0383, Train Accuracy: 0.9866\n"
     ]
    },
    {
     "name": "stderr",
     "output_type": "stream",
     "text": [
      "100%|████████████████████████████████████████████████████████████████████████████████████| 7/7 [00:05<00:00,  1.29it/s]\n"
     ]
    },
    {
     "name": "stdout",
     "output_type": "stream",
     "text": [
      "Test Loss: 1.3982, Test Accuracy: 0.7368\n"
     ]
    },
    {
     "name": "stderr",
     "output_type": "stream",
     "text": [
      "100%|████████████████████████████████████████████████████████████████████████████████| 533/533 [09:56<00:00,  1.12s/it]\n"
     ]
    },
    {
     "name": "stdout",
     "output_type": "stream",
     "text": [
      "Epoch 7/10, Train Loss: 0.0333, Train Accuracy: 0.9884\n"
     ]
    },
    {
     "name": "stderr",
     "output_type": "stream",
     "text": [
      "100%|████████████████████████████████████████████████████████████████████████████████████| 7/7 [00:05<00:00,  1.28it/s]\n"
     ]
    },
    {
     "name": "stdout",
     "output_type": "stream",
     "text": [
      "Test Loss: 1.3695, Test Accuracy: 0.8134\n"
     ]
    },
    {
     "name": "stderr",
     "output_type": "stream",
     "text": [
      "100%|████████████████████████████████████████████████████████████████████████████████| 533/533 [09:31<00:00,  1.07s/it]\n"
     ]
    },
    {
     "name": "stdout",
     "output_type": "stream",
     "text": [
      "Epoch 8/10, Train Loss: 0.0280, Train Accuracy: 0.9901\n"
     ]
    },
    {
     "name": "stderr",
     "output_type": "stream",
     "text": [
      "100%|████████████████████████████████████████████████████████████████████████████████████| 7/7 [00:05<00:00,  1.28it/s]\n"
     ]
    },
    {
     "name": "stdout",
     "output_type": "stream",
     "text": [
      "Test Loss: 3.1540, Test Accuracy: 0.6938\n"
     ]
    },
    {
     "name": "stderr",
     "output_type": "stream",
     "text": [
      "100%|████████████████████████████████████████████████████████████████████████████████| 533/533 [09:41<00:00,  1.09s/it]\n"
     ]
    },
    {
     "name": "stdout",
     "output_type": "stream",
     "text": [
      "Epoch 9/10, Train Loss: 0.0407, Train Accuracy: 0.9873\n"
     ]
    },
    {
     "name": "stderr",
     "output_type": "stream",
     "text": [
      "100%|████████████████████████████████████████████████████████████████████████████████████| 7/7 [00:05<00:00,  1.25it/s]\n"
     ]
    },
    {
     "name": "stdout",
     "output_type": "stream",
     "text": [
      "Test Loss: 2.0606, Test Accuracy: 0.7656\n"
     ]
    },
    {
     "name": "stderr",
     "output_type": "stream",
     "text": [
      "100%|████████████████████████████████████████████████████████████████████████████████| 533/533 [09:39<00:00,  1.09s/it]\n"
     ]
    },
    {
     "name": "stdout",
     "output_type": "stream",
     "text": [
      "Epoch 10/10, Train Loss: 0.0256, Train Accuracy: 0.9908\n"
     ]
    },
    {
     "name": "stderr",
     "output_type": "stream",
     "text": [
      "100%|████████████████████████████████████████████████████████████████████████████████████| 7/7 [00:09<00:00,  1.29s/it]"
     ]
    },
    {
     "name": "stdout",
     "output_type": "stream",
     "text": [
      "Test Loss: 1.8996, Test Accuracy: 0.7129\n"
     ]
    },
    {
     "name": "stderr",
     "output_type": "stream",
     "text": [
      "\n"
     ]
    },
    {
     "data": {
      "text/plain": [
       "{'train_loss': [0.2731277473746165,\n",
       "  0.0811518976450889,\n",
       "  0.05814309922063559,\n",
       "  0.04348613054611544,\n",
       "  0.0447619355538104,\n",
       "  0.03828362913047068,\n",
       "  0.03325658249673964,\n",
       "  0.02796519759532223,\n",
       "  0.04070006290005968,\n",
       "  0.025598766650755306],\n",
       " 'train_acc': [0.8919014084507042,\n",
       "  0.9699530516431925,\n",
       "  0.9783450704225352,\n",
       "  0.9836854460093897,\n",
       "  0.9842723004694836,\n",
       "  0.9865610328638498,\n",
       "  0.9884389671361502,\n",
       "  0.9901408450704225,\n",
       "  0.9872652582159624,\n",
       "  0.9907863849765258],\n",
       " 'test_loss': [0.6590406681810107,\n",
       "  0.8136573944772992,\n",
       "  1.254652006285531,\n",
       "  2.2239032558032443,\n",
       "  2.0565187079565868,\n",
       "  1.398199737071991,\n",
       "  1.369462481566838,\n",
       "  3.1539996351514543,\n",
       "  2.0605802876608714,\n",
       "  1.899587401321956],\n",
       " 'test_acc': [0.779904305934906,\n",
       "  0.7703348994255066,\n",
       "  0.7464114427566528,\n",
       "  0.7081339359283447,\n",
       "  0.6985645890235901,\n",
       "  0.7368420958518982,\n",
       "  0.8133971095085144,\n",
       "  0.6937798857688904,\n",
       "  0.7655501961708069,\n",
       "  0.7129186391830444]}"
      ]
     },
     "execution_count": 17,
     "metadata": {},
     "output_type": "execute_result"
    }
   ],
   "source": [
    "### running the training loop\n",
    "trainer_conv.train_loop()"
   ]
  },
  {
   "cell_type": "code",
   "execution_count": 24,
   "id": "afe6a0cb",
   "metadata": {},
   "outputs": [
    {
     "name": "stdout",
     "output_type": "stream",
     "text": [
      "              precision    recall  f1-score   support\n",
      "\n",
      "           0       0.54      0.96      0.69        70\n",
      "           1       0.96      0.59      0.73       139\n",
      "\n",
      "    accuracy                           0.71       209\n",
      "   macro avg       0.75      0.77      0.71       209\n",
      "weighted avg       0.82      0.71      0.72       209\n",
      "\n"
     ]
    }
   ],
   "source": [
    "#classification report\n",
    "trainer_conv.classification_report() "
   ]
  },
  {
   "cell_type": "code",
   "execution_count": 25,
   "id": "516a1feb",
   "metadata": {},
   "outputs": [
    {
     "data": {
      "image/png": "[encoded data removed]",
      "text/plain": [
       "<Figure size 1000x700 with 1 Axes>"
      ]
     },
     "metadata": {},
     "output_type": "display_data"
    }
   ],
   "source": [
    "#confusion matrix\n",
    "trainer_conv.create_dir(\"../confusion_matrix/\")\n",
    "trainer_conv.confusion_matrix(save_path=\"../confusion_matrix/\")"
   ]
  },
  {
   "cell_type": "code",
   "execution_count": 26,
   "id": "cfa7b4b2",
   "metadata": {},
   "outputs": [],
   "source": [
    "#Saving the weights\n",
    "trainer_conv.create_dir(\"../saved_weights/\") #class_name and score\n",
    "trainer_conv.save_model(save_path=\"../saved_weights/weights.pth\")"
   ]
  },
  {
   "cell_type": "code",
   "execution_count": 28,
   "id": "1be6150e",
   "metadata": {},
   "outputs": [
    {
     "data": {
      "text/plain": [
       "<All keys matched successfully>"
      ]
     },
     "execution_count": 28,
     "metadata": {},
     "output_type": "execute_result"
    }
   ],
   "source": [
    "#Loading the weights\n",
    "trainer_conv.model.load_state_dict(torch.load(\"../saved_weights/weights.pth\"))"
   ]
  },
  {
   "cell_type": "code",
   "execution_count": 29,
   "id": "3ed42f58",
   "metadata": {},
   "outputs": [
    {
     "data": {
      "image/png": "[encoded data removed]",
      "text/plain": [
       "<Figure size 1200x500 with 2 Axes>"
      ]
     },
     "metadata": {},
     "output_type": "display_data"
    }
   ],
   "source": [
    "#plotting metrics\n",
    "trainer_conv.create_dir(\"../metrics/\")\n",
    "trainer_conv.plot_metrics(save_path=\"../metrics/\")"
   ]
  }
 ],
 "metadata": {
  "kernelspec": {
   "display_name": "Python 3 (ipykernel)",
   "language": "python",
   "name": "python3"
  },
  "language_info": {
   "codemirror_mode": {
    "name": "ipython",
    "version": 3
   },
   "file_extension": ".py",
   "mimetype": "text/x-python",
   "name": "python",
   "nbconvert_exporter": "python",
   "pygments_lexer": "ipython3",
   "version": "3.9.12"
  }
 },
 "nbformat": 4,
 "nbformat_minor": 5
}
